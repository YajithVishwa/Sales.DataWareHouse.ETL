{
 "cells": [
  {
   "cell_type": "code",
   "execution_count": 25,
   "metadata": {},
   "outputs": [],
   "source": [
    "from faker import Faker\n",
    "from db_auth import pyodbc_url\n",
    "import pyodbc\n",
    "import random"
   ]
  },
  {
   "cell_type": "code",
   "execution_count": 26,
   "metadata": {},
   "outputs": [],
   "source": [
    "fake = Faker()"
   ]
  },
  {
   "cell_type": "code",
   "execution_count": 27,
   "metadata": {},
   "outputs": [],
   "source": [
    "def insert_data(data, tableName):\n",
    "    conn = pyodbc.connect(pyodbc_url)\n",
    "    cursor = conn.cursor()\n",
    "    columns = \", \".join(data[0].keys())\n",
    "    placeholders = \", \".join([\"?\" for _ in data[0]])\n",
    "    insert_query = f\"INSERT INTO {tableName} ({columns}) VALUES ({placeholders})\"\n",
    "    values = [tuple(order.values()) for order in data]\n",
    "    cursor.executemany(insert_query, values)\n",
    "    conn.commit()\n",
    "    cursor.close()\n",
    "    conn.close()"
   ]
  },
  {
   "cell_type": "code",
   "execution_count": 28,
   "metadata": {},
   "outputs": [],
   "source": [
    "def read_data(column, tableName):\n",
    "    conn = pyodbc.connect(pyodbc_url)\n",
    "    cursor = conn.cursor()\n",
    "    cursor.execute(f\"SELECT {column} FROM {tableName}\")\n",
    "    rows = cursor.fetchall()\n",
    "    id_col = []\n",
    "    for row in rows:\n",
    "        id_col.append(row[0])\n",
    "    cursor.close()\n",
    "    conn.close()\n",
    "    return id_col"
   ]
  },
  {
   "cell_type": "code",
   "execution_count": 29,
   "metadata": {},
   "outputs": [],
   "source": [
    "products_bronze = [\n",
    "    {\n",
    "        \"product_id\": fake.uuid4(),\n",
    "        \"name\": fake.word().capitalize(),\n",
    "        \"category\": random.choice([\"Electronics\", \"Clothing\", \"Home & Kitchen\", \"Books\", \"Toys\"]),\n",
    "        \"brand\": fake.company(),\n",
    "        \"cost_price\": round(random.uniform(10, 300), 2),\n",
    "        \"selling_price\": round(random.uniform(15, 500), 2),\n",
    "        \"raw_data_source\": \"Product Catalog\",\n",
    "        \"ingestion_timestamp\": fake.date_time_this_year()\n",
    "    }\n",
    "    for _ in range(100000)\n",
    "]\n",
    "\n",
    "product_id = [product['product_id'] for product in products_bronze] + read_data('product_id', 'raw.products')\n",
    "\n",
    "insert_data(products_bronze, \"[raw].[products]\")"
   ]
  },
  {
   "cell_type": "code",
   "execution_count": 30,
   "metadata": {},
   "outputs": [],
   "source": [
    "customers_bronze = [\n",
    "    {\n",
    "        \"customer_id\": fake.uuid4(),\n",
    "        \"name\": fake.name(),\n",
    "        \"email\": fake.email(),\n",
    "        \"address\": fake.address(),\n",
    "        \"age\": random.randint(18, 70),\n",
    "        \"gender\": random.choice([\"Male\", \"Female\", \"Other\"]),\n",
    "        \"signup_date\": fake.date_time_this_decade(),\n",
    "        \"raw_data_source\": \"CRM System\",\n",
    "        \"ingestion_timestamp\": fake.date_time_this_year()\n",
    "    }\n",
    "    for _ in range(100000)\n",
    "]\n",
    "\n",
    "customer_id = [customers['customer_id'] for customers in customers_bronze] + read_data('customer_id', 'raw.customer')\n",
    "\n",
    "insert_data(customers_bronze, \"[raw].[customer]\")"
   ]
  },
  {
   "cell_type": "code",
   "execution_count": 31,
   "metadata": {},
   "outputs": [],
   "source": [
    "orders_bronze = [\n",
    "    {\n",
    "        \"order_id\": fake.uuid4(),\n",
    "        \"quantity\": random.randint(1, 10),\n",
    "        \"price\": round(random.uniform(5, 500), 2),\n",
    "        \"order_date\": fake.date_time_this_year(),\n",
    "        \"shipping_address\": fake.address(),\n",
    "        \"raw_data_source\": \"E-Commerce API\",\n",
    "        \"ingestion_timestamp\": fake.date_time_this_year()\n",
    "    }\n",
    "    for _ in range(100000)\n",
    "]\n",
    "\n",
    "order_id = [orders['order_id'] for orders in orders_bronze] + read_data('order_id', 'raw.orders')\n",
    "\n",
    "\n",
    "insert_data(orders_bronze, \"[raw].[orders]\")"
   ]
  },
  {
   "cell_type": "code",
   "execution_count": 33,
   "metadata": {},
   "outputs": [],
   "source": [
    "sales_transactions_bronze = [\n",
    "    {\n",
    "        \"transaction_id\": fake.uuid4(),\n",
    "        \"order_id\": random.choice(order_id),\n",
    "        \"customer_id\": random.choice(customer_id),\n",
    "        \"product_id\": random.choice(product_id),\n",
    "        \"total_amount\": round(random.uniform(10, 1000), 2),\n",
    "        \"discount\": round(random.uniform(0, 100), 2),\n",
    "        \"tax\": round(random.uniform(1, 50), 2),\n",
    "        \"refund_amount\": round(random.uniform(0, 100), 2),\n",
    "        \"transaction_date\": fake.date_time_this_year(),\n",
    "        \"raw_data_source\": \"POS System\",\n",
    "        \"ingestion_timestamp\": fake.date_time_this_year()\n",
    "    }\n",
    "    for _ in range(100000)\n",
    "]\n",
    "\n",
    "\n",
    "insert_data(sales_transactions_bronze, \"[raw].[sales_transaction]\")"
   ]
  }
 ],
 "metadata": {
  "kernelspec": {
   "display_name": "Python 3",
   "language": "python",
   "name": "python3"
  },
  "language_info": {
   "codemirror_mode": {
    "name": "ipython",
    "version": 3
   },
   "file_extension": ".py",
   "mimetype": "text/x-python",
   "name": "python",
   "nbconvert_exporter": "python",
   "pygments_lexer": "ipython3",
   "version": "3.11.9"
  }
 },
 "nbformat": 4,
 "nbformat_minor": 2
}
