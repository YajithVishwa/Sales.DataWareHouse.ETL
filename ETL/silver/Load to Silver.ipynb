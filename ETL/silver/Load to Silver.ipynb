{
 "cells": [
  {
   "cell_type": "code",
   "execution_count": 1,
   "metadata": {},
   "outputs": [],
   "source": [
    "from db_auth import connection_properties, jdbc_url, pyodbc_url"
   ]
  },
  {
   "cell_type": "code",
   "execution_count": 2,
   "metadata": {},
   "outputs": [],
   "source": [
    "from pyspark.sql import SparkSession\n",
    "from pyspark.sql.functions import *\n",
    "import pyodbc"
   ]
  },
  {
   "cell_type": "code",
   "execution_count": 3,
   "metadata": {},
   "outputs": [],
   "source": [
    "def delete_data(tableName):\n",
    "    conn = pyodbc.connect(pyodbc_url)\n",
    "    cursor = conn.cursor()\n",
    "    cursor.execute('DELETE FROM {tableName}'.format(tableName=tableName))\n",
    "    conn.commit()\n",
    "    cursor.close()\n",
    "    conn.close()"
   ]
  },
  {
   "cell_type": "code",
   "execution_count": 4,
   "metadata": {},
   "outputs": [],
   "source": [
    "def read_table(query):\n",
    "    return spark.read.jdbc(url=jdbc_url, table=f'({query}) as query', properties=connection_properties)"
   ]
  },
  {
   "cell_type": "code",
   "execution_count": 5,
   "metadata": {},
   "outputs": [],
   "source": [
    "def write_table(tableName, df):\n",
    "    df.write.jdbc(url=jdbc_url, table=tableName, mode='append', properties=connection_properties)"
   ]
  },
  {
   "cell_type": "code",
   "execution_count": 6,
   "metadata": {},
   "outputs": [],
   "source": [
    "spark = SparkSession.builder.appName(\"Silver_Layer\").getOrCreate()"
   ]
  },
  {
   "cell_type": "markdown",
   "metadata": {},
   "source": [
    "Order TABLE Data"
   ]
  },
  {
   "cell_type": "code",
   "execution_count": 7,
   "metadata": {},
   "outputs": [],
   "source": [
    "orders_df = read_table('SELECT *, ROW_NUMBER() OVER(PARTITION BY order_id ORDER BY ingestion_timestamp) as row_number FROM raw.orders').filter(col('row_number') == 1)\n",
    "orders_df= orders_df.withColumn('order_id', upper(col('order_id')))"
   ]
  },
  {
   "cell_type": "code",
   "execution_count": 8,
   "metadata": {},
   "outputs": [
    {
     "name": "stdout",
     "output_type": "stream",
     "text": [
      "200000\n"
     ]
    }
   ],
   "source": [
    "silver_order_df = read_table('SELECT * FROM [silver].[Dim_Orders]').cache()\n",
    "\n",
    "print(silver_order_df.count())"
   ]
  },
  {
   "cell_type": "code",
   "execution_count": 9,
   "metadata": {},
   "outputs": [
    {
     "name": "stdout",
     "output_type": "stream",
     "text": [
      "+--------------------+-------------------+--------------------+--------------------+--------------------+\n",
      "|            order_id|         order_date|    shipping_address|          created_at|          updated_at|\n",
      "+--------------------+-------------------+--------------------+--------------------+--------------------+\n",
      "|00011D63-9552-408...|2025-01-23 12:56:03|64417 Brooks Harb...|2025-02-09 15:54:...|2025-02-09 23:20:...|\n",
      "|00026A9F-A28E-4A8...|2025-02-02 10:58:27|09160 Stevens Poi...|2025-02-09 15:54:...|2025-02-09 23:20:...|\n",
      "|00037CE7-8A41-41A...|2025-01-27 15:12:06|14130 Natalie Inl...|2025-02-09 15:54:...|2025-02-09 23:20:...|\n",
      "|00028F7A-21E2-445...|2025-01-22 06:42:04|5017 Lisa Burgs A...|2025-02-09 15:54:...|2025-02-09 23:20:...|\n",
      "|00065BD1-7CDE-415...|2025-01-24 13:21:49|33974 Matthew Cre...|2025-02-09 15:54:...|2025-02-09 23:20:...|\n",
      "|000276CB-A588-4BE...|2025-01-05 00:35:59|83452 Lopez Sprin...|2025-02-09 15:54:...|2025-02-09 23:20:...|\n",
      "|00046F9B-8E73-496...|2025-01-24 08:35:31|94081 Brian Place...|2025-02-09 15:54:...|2025-02-09 23:20:...|\n",
      "|000597AC-F767-4C2...|2025-02-08 02:00:43|USNS Gilbert\\nFPO...|2025-02-09 15:54:...|2025-02-09 23:20:...|\n",
      "|000756A6-DDCF-49E...|2025-02-01 08:03:43|387 Kelsey Flat\\n...|2025-02-09 15:54:...|2025-02-09 23:20:...|\n",
      "|00073F13-8349-4C1...|2025-02-08 21:44:02|40629 Lewis Strav...|2025-02-09 15:54:...|2025-02-09 23:20:...|\n",
      "|000175A9-FB1A-427...|2025-01-27 18:29:17|11010 Christina R...|2025-02-09 15:54:...|2025-02-09 23:20:...|\n",
      "|00034A77-18AF-42B...|2025-01-06 06:45:59|7641 Stewart Moto...|2025-02-09 15:54:...|2025-02-09 23:20:...|\n",
      "|0004A2E8-5CD0-41C...|2025-02-01 15:24:53|90065 Willie Spur...|2025-02-09 15:54:...|2025-02-09 23:20:...|\n",
      "|00058857-E41E-40B...|2025-01-24 04:56:09|722 Taylor Vista ...|2025-02-09 15:54:...|2025-02-09 23:20:...|\n",
      "|00063F4F-D4AC-470...|2025-01-20 18:10:12|19376 Jennifer We...|2025-02-09 15:54:...|2025-02-09 23:20:...|\n",
      "|00000149-60AC-4F6...|2025-01-27 07:41:48|24657 Mcbride Par...|2025-02-09 15:54:...|2025-02-09 23:20:...|\n",
      "|00076D6D-8A4E-4D2...|2025-01-24 06:14:41|169 Dalton Flat A...|2025-02-09 21:26:...|2025-02-09 23:20:...|\n",
      "|00015128-43FA-450...|2025-02-03 22:57:45|36826 Christopher...|2025-02-09 15:54:...|2025-02-09 23:20:...|\n",
      "|00054ED7-96E9-4D4...|2025-01-25 03:33:48|USCGC Myers\\nFPO ...|2025-02-09 15:54:...|2025-02-09 23:20:...|\n",
      "|0006AC0A-7C27-41C...|2025-01-21 21:01:59|93187 Christopher...|2025-02-09 15:54:...|2025-02-09 23:20:...|\n",
      "+--------------------+-------------------+--------------------+--------------------+--------------------+\n",
      "only showing top 20 rows\n",
      "\n"
     ]
    }
   ],
   "source": [
    "curated_order_df = orders_df.alias('raw').join(silver_order_df.alias('silver'), orders_df.order_id == silver_order_df.order_id, 'left_outer')\n",
    "curated_order_df = curated_order_df.withColumn('created_at', when(col('silver.order_id').isNull(), lit(current_timestamp())).otherwise(col('silver.created_at'))).withColumn('updated_at', when(col('silver.order_id').isNull(), lit(None)).otherwise(lit(current_timestamp())))\n",
    "curated_order_df = curated_order_df.select('raw.order_id', 'raw.order_date', 'raw.shipping_address', 'created_at', 'updated_at')\n",
    "curated_order_df.show()"
   ]
  },
  {
   "cell_type": "code",
   "execution_count": 10,
   "metadata": {},
   "outputs": [
    {
     "name": "stdout",
     "output_type": "stream",
     "text": [
      "New data -  0\n",
      "Updated data -  200000\n"
     ]
    }
   ],
   "source": [
    "print('New data - ' ,curated_order_df.filter(col('updated_at').isNull()).count())\n",
    "print('Updated data - ' ,curated_order_df.filter(col('updated_at').isNotNull()).count())"
   ]
  },
  {
   "cell_type": "code",
   "execution_count": 11,
   "metadata": {},
   "outputs": [],
   "source": [
    "delete_data('silver.Dim_Orders')"
   ]
  },
  {
   "cell_type": "code",
   "execution_count": 12,
   "metadata": {},
   "outputs": [],
   "source": [
    "write_table('silver.Dim_Orders', curated_order_df)"
   ]
  },
  {
   "cell_type": "markdown",
   "metadata": {},
   "source": [
    "Customer Table Data"
   ]
  },
  {
   "cell_type": "code",
   "execution_count": 13,
   "metadata": {},
   "outputs": [],
   "source": [
    "customer_df = read_table('SELECT *, ROW_NUMBER() OVER(PARTITION BY customer_id ORDER BY ingestion_timestamp) as row_number FROM raw.[customer]').filter(col('row_number') == 1)\n",
    "customer_df= customer_df.withColumn('customer_id', upper(col('customer_id')))"
   ]
  },
  {
   "cell_type": "code",
   "execution_count": 14,
   "metadata": {},
   "outputs": [
    {
     "name": "stdout",
     "output_type": "stream",
     "text": [
      "200000\n"
     ]
    }
   ],
   "source": [
    "silver_customer_df = read_table('SELECT * FROM [silver].[Dim_Customers]').cache()\n",
    "\n",
    "print(silver_customer_df.count())"
   ]
  },
  {
   "cell_type": "code",
   "execution_count": 15,
   "metadata": {},
   "outputs": [],
   "source": [
    "curated_customer_df = customer_df.alias('raw').join(silver_customer_df.alias('silver'), customer_df.customer_id == silver_customer_df.customer_id, 'left_outer')\n",
    "curated_customer_df = curated_customer_df.withColumn('created_at', when(col('silver.customer_id').isNull(), lit(current_timestamp())).otherwise(col('silver.created_at'))).withColumn('updated_at', when(col('silver.customer_id').isNull(), lit(None)).otherwise(lit(current_timestamp())))\n",
    "curated_customer_df= curated_customer_df.select('raw.customer_id', 'raw.name', 'raw.email', 'raw.address', 'raw.age', 'raw.gender', 'raw.signup_date', 'created_at', 'updated_at')"
   ]
  },
  {
   "cell_type": "code",
   "execution_count": 16,
   "metadata": {},
   "outputs": [
    {
     "name": "stdout",
     "output_type": "stream",
     "text": [
      "New data -  0\n",
      "Updated data -  200000\n"
     ]
    }
   ],
   "source": [
    "print('New data - ' ,curated_customer_df.filter(col('updated_at').isNull()).count())\n",
    "print('Updated data - ' ,curated_customer_df.filter(col('updated_at').isNotNull()).count())"
   ]
  },
  {
   "cell_type": "code",
   "execution_count": 17,
   "metadata": {},
   "outputs": [],
   "source": [
    "delete_data('silver.Dim_Customers')"
   ]
  },
  {
   "cell_type": "code",
   "execution_count": 18,
   "metadata": {},
   "outputs": [],
   "source": [
    "write_table('silver.Dim_Customers', curated_customer_df)"
   ]
  },
  {
   "cell_type": "markdown",
   "metadata": {},
   "source": [
    "Product Table Data"
   ]
  },
  {
   "cell_type": "code",
   "execution_count": 19,
   "metadata": {},
   "outputs": [],
   "source": [
    "product_df = read_table('SELECT *, ROW_NUMBER() OVER(PARTITION BY product_id ORDER BY ingestion_timestamp) as row_number FROM raw.[products]').filter(col('row_number') == 1)\n",
    "product_df= product_df.withColumn('product_id', upper(col('product_id')))"
   ]
  },
  {
   "cell_type": "code",
   "execution_count": 20,
   "metadata": {},
   "outputs": [
    {
     "name": "stdout",
     "output_type": "stream",
     "text": [
      "200000\n"
     ]
    }
   ],
   "source": [
    "silver_product_df = read_table('SELECT * FROM [silver].[Dim_Products]').cache()\n",
    "\n",
    "print(silver_product_df.count())"
   ]
  },
  {
   "cell_type": "code",
   "execution_count": 21,
   "metadata": {},
   "outputs": [],
   "source": [
    "curated_product_df = product_df.alias('raw').join(silver_product_df.alias('silver'), product_df.product_id == silver_product_df.product_id, 'left_outer')\n",
    "curated_product_df = curated_product_df.withColumn('created_at', when(col('silver.product_id').isNull(), lit(current_timestamp())).otherwise(col('silver.created_at'))).withColumn('updated_at', when(col('silver.product_id').isNull(), lit(None)).otherwise(lit(current_timestamp())))\n",
    "curated_product_df= curated_product_df.select('raw.product_id', 'raw.name', 'raw.category', 'raw.brand', 'raw.cost_price', 'raw.selling_price', 'created_at', 'updated_at')"
   ]
  },
  {
   "cell_type": "code",
   "execution_count": 22,
   "metadata": {},
   "outputs": [
    {
     "name": "stdout",
     "output_type": "stream",
     "text": [
      "New data -  0\n",
      "Updated data -  200000\n"
     ]
    }
   ],
   "source": [
    "print('New data - ' ,curated_product_df.filter(col('updated_at').isNull()).count())\n",
    "print('Updated data - ' ,curated_product_df.filter(col('updated_at').isNotNull()).count())"
   ]
  },
  {
   "cell_type": "code",
   "execution_count": 23,
   "metadata": {},
   "outputs": [],
   "source": [
    "delete_data('silver.Dim_Products')"
   ]
  },
  {
   "cell_type": "code",
   "execution_count": 24,
   "metadata": {},
   "outputs": [],
   "source": [
    "write_table('silver.Dim_Products', curated_product_df)"
   ]
  },
  {
   "cell_type": "markdown",
   "metadata": {},
   "source": [
    "Fact Sales Table Data"
   ]
  },
  {
   "cell_type": "code",
   "execution_count": 25,
   "metadata": {},
   "outputs": [],
   "source": [
    "sales_df = read_table('SELECT *, ROW_NUMBER() OVER(PARTITION BY transaction_id ORDER BY ingestion_timestamp) as row_number FROM raw.sales_transaction').filter(col('row_number') == 1)\n",
    "sales_df= sales_df.withColumn('transaction_id', upper(col('transaction_id'))).withColumn('order_id', upper(col('order_id'))).withColumn('customer_id', upper(col('customer_id'))).withColumn('product_id', upper(col('product_id')))"
   ]
  },
  {
   "cell_type": "code",
   "execution_count": 26,
   "metadata": {},
   "outputs": [
    {
     "name": "stdout",
     "output_type": "stream",
     "text": [
      "+--------------------+--------------------+--------------------+------------+--------+-----+-------------+-------------------+---------------+-------------------+--------------------+----------+\n",
      "|      transaction_id|            order_id|         customer_id|total_amount|discount|  tax|refund_amount|   transaction_date|raw_data_source|ingestion_timestamp|          product_id|row_number|\n",
      "+--------------------+--------------------+--------------------+------------+--------+-----+-------------+-------------------+---------------+-------------------+--------------------+----------+\n",
      "|0000D098-A76D-44B...|24C5CAD7-9D99-4B4...|A2EDC8E4-71BF-436...|      496.21|   95.72|34.58|        11.96|2025-02-05 15:17:59|     POS System|2025-01-24 03:19:55|0D5ED4C5-8244-437...|         1|\n",
      "|00028E8B-FAB2-4FB...|C2D1BC30-698D-4CD...|666156E3-A8D6-494...|      464.99|   65.44| 8.57|        34.85|2025-02-04 02:36:09|     POS System|2025-01-07 20:49:13|EA6912DB-C73C-446...|         1|\n",
      "|0002BA29-481D-40E...|3ACAF409-D9B2-4D5...|865B4AB9-E69C-490...|      547.97|   98.64|10.92|        54.99|2025-02-02 00:15:31|     POS System|2025-02-01 01:35:52|4F9A3BD3-0DAF-41D...|         1|\n",
      "|00034F48-B10A-445...|0D59F926-4FFF-4A7...|9D5ECE41-A4A8-4F4...|       48.34|    5.79|22.08|        37.31|2025-01-13 12:58:09|     POS System|2025-01-04 18:24:37|E1BEC64C-5B30-407...|         1|\n",
      "|000353CB-0AF7-4F1...|6581D6BA-99A4-42A...|A38B0132-C5A0-46E...|      627.78|   34.91|48.89|        37.99|2025-01-17 17:42:28|     POS System|2025-01-04 20:53:12|14F826FB-FE88-413...|         1|\n",
      "|0004012C-C5D9-4D1...|44BBF126-BC9E-408...|F6CEEEC7-20B3-452...|      997.52|   46.03| 6.13|        17.12|2025-02-01 09:38:50|     POS System|2025-01-02 17:30:49|EC3DBCC6-C97C-44F...|         1|\n",
      "|0004EEDD-9E4B-4C5...|E08F52CE-E448-4D0...|7FB8120F-0952-489...|      586.90|   41.14| 2.65|        68.55|2025-01-21 05:23:03|     POS System|2025-02-06 20:15:29|F574A562-4600-43B...|         1|\n",
      "|00052947-E2A8-422...|BFFF29AA-3DF1-4E8...|3DBE750D-2D48-43D...|       12.25|   38.71| 5.16|        10.65|2025-01-11 13:30:04|     POS System|2025-01-23 20:45:39|9CE179CB-144D-4A4...|         1|\n",
      "|000775D1-BC2A-41F...|99D165C9-AF8F-463...|86F87662-3B62-476...|      987.97|   85.50|41.77|        96.28|2025-01-30 04:46:37|     POS System|2025-02-07 15:02:37|971F2ED8-AEA4-4DF...|         1|\n",
      "|0007B6FB-F378-433...|85160C09-DB29-441...|C7F219DA-0865-46B...|      195.24|   84.48|26.59|        44.83|2025-01-12 21:29:18|     POS System|2025-01-01 11:46:34|06A35FE0-EEFA-4BE...|         1|\n",
      "|00086A81-1494-4AA...|43A56A8B-6F74-472...|71B9E7D0-7491-4AD...|      876.67|   71.59|30.33|        46.06|2025-01-01 05:06:52|     POS System|2025-01-26 08:26:05|6A80486B-49E0-4E7...|         1|\n",
      "|0008C97E-2758-492...|AF3FB9BD-C761-428...|4B905A2A-8134-401...|      700.59|   55.61|27.21|        61.35|2025-02-06 13:29:16|     POS System|2025-01-31 07:49:41|A0DF4B3F-C515-44D...|         1|\n",
      "|0009509C-BC94-404...|97254120-0DC6-408...|165E2834-B6AD-46D...|      719.58|   79.22|24.98|         6.91|2025-01-10 13:23:27|     POS System|2025-01-25 01:43:32|B7424648-646D-46A...|         1|\n",
      "|0009D01B-9C02-41F...|9B4851F1-CF25-417...|C74B15A3-18FB-436...|      233.02|   35.14|18.28|        12.33|2025-01-21 16:25:03|     POS System|2025-01-22 10:13:36|C1D21849-65BE-4CA...|         1|\n",
      "|000B5868-3824-40E...|F7436317-FF72-43D...|F22B5B0A-23E0-4DB...|      218.94|   36.93| 5.69|        97.96|2025-01-29 04:39:34|     POS System|2025-01-09 04:26:13|1D05D206-A416-4D2...|         1|\n",
      "|000CA5C9-7C45-4A4...|97BB36A8-1B56-415...|05AF9145-799F-402...|      964.59|   17.07|47.95|        94.22|2025-02-05 23:53:07|     POS System|2025-02-01 16:58:02|E37941FB-163C-415...|         1|\n",
      "|000D7461-AA35-45B...|EF0BD4B2-5A57-485...|38FE09F5-7AF0-4D7...|       15.13|   24.76|26.57|        31.39|2025-02-08 16:11:40|     POS System|2025-02-05 01:19:05|A6404304-6C5A-476...|         1|\n",
      "|000EB8EF-078D-402...|C98FBAA6-DD8C-4F2...|EA32BA25-59AB-4A5...|      441.12|   41.72|44.08|        70.80|2025-01-04 23:53:39|     POS System|2025-01-03 09:43:54|72C29650-EACB-4F3...|         1|\n",
      "|001027CE-BE87-4AD...|0409CB33-B8CA-469...|A295D3BB-4BB1-46A...|      123.08|   60.13|15.16|         9.69|2025-02-03 11:27:22|     POS System|2025-01-19 03:30:21|1226A75A-FC5D-4F3...|         1|\n",
      "|001076E1-B77C-482...|7F702AFF-393B-4EF...|414E1E48-A8BA-478...|      336.78|   70.68|21.83|        62.05|2025-01-25 00:26:26|     POS System|2025-01-05 23:34:19|32B15416-CC12-433...|         1|\n",
      "+--------------------+--------------------+--------------------+------------+--------+-----+-------------+-------------------+---------------+-------------------+--------------------+----------+\n",
      "only showing top 20 rows\n",
      "\n"
     ]
    }
   ],
   "source": [
    "sales_df.show()"
   ]
  },
  {
   "cell_type": "code",
   "execution_count": 27,
   "metadata": {},
   "outputs": [
    {
     "name": "stdout",
     "output_type": "stream",
     "text": [
      "0\n"
     ]
    }
   ],
   "source": [
    "silver_sales_df = read_table('SELECT * FROM [silver].[Fact_Sales_Transactions] fst WHERE fst.order_id IN ( SELECT order_id FROM [silver].[Dim_Orders]) and fst.customer_id IN (SELECT customer_id FROM [silver].[Dim_Customers]) and fst.product_id IN (SELECT product_id FROM [silver].Dim_Products)')\n",
    "\n",
    "print(silver_sales_df.count())"
   ]
  },
  {
   "cell_type": "code",
   "execution_count": 28,
   "metadata": {},
   "outputs": [],
   "source": [
    "curated_sales_df = sales_df.alias('raw').join(silver_sales_df.alias('silver'), sales_df.transaction_id == silver_sales_df.transaction_id, 'left_outer')\n",
    "curated_sales_df = curated_sales_df.withColumn('created_at', when(col('silver.transaction_id').isNull(), lit(current_timestamp())).otherwise(col('silver.created_at'))).withColumn('updated_at', when(col('silver.transaction_id').isNull(), lit(None)).otherwise(lit(current_timestamp())))\n",
    "curated_sales_df = curated_sales_df.select('raw.transaction_id', 'raw.order_id', 'raw.customer_id', 'raw.product_id', 'raw.transaction_date', 'raw.discount', 'raw.tax', 'raw.refund_amount', 'raw.total_amount', 'created_at', 'updated_at')"
   ]
  },
  {
   "cell_type": "code",
   "execution_count": 29,
   "metadata": {},
   "outputs": [],
   "source": [
    "curated_sales_df = curated_sales_df.withColumn('discount', coalesce(col('discount'), lit(0))).withColumn('tax', coalesce(col('tax'), lit(0))).withColumn('refund_amount', coalesce(col('refund_amount'), lit(0)))"
   ]
  },
  {
   "cell_type": "code",
   "execution_count": 30,
   "metadata": {},
   "outputs": [],
   "source": [
    "delete_data('[silver].[Fact_Sales_Transactions]')"
   ]
  },
  {
   "cell_type": "code",
   "execution_count": 31,
   "metadata": {},
   "outputs": [],
   "source": [
    "write_table('[silver].[Fact_Sales_Transactions]', curated_sales_df)"
   ]
  }
 ],
 "metadata": {
  "kernelspec": {
   "display_name": "Python 3",
   "language": "python",
   "name": "python3"
  },
  "language_info": {
   "codemirror_mode": {
    "name": "ipython",
    "version": 3
   },
   "file_extension": ".py",
   "mimetype": "text/x-python",
   "name": "python",
   "nbconvert_exporter": "python",
   "pygments_lexer": "ipython3",
   "version": "3.11.9"
  }
 },
 "nbformat": 4,
 "nbformat_minor": 2
}
