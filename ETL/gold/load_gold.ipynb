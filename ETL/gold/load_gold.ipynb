{
 "cells": [
  {
   "cell_type": "code",
   "execution_count": 84,
   "metadata": {},
   "outputs": [],
   "source": [
    "from db_auth import pyodbc_url, jdbc_url, connection_properties\n",
    "from pyspark.sql import SparkSession\n",
    "from pyspark.sql.functions import *\n",
    "import pyodbc\n",
    "import uuid"
   ]
  },
  {
   "cell_type": "code",
   "execution_count": 5,
   "metadata": {},
   "outputs": [],
   "source": [
    "spark = SparkSession.builder.appName(\"Load Gold\").getOrCreate()"
   ]
  },
  {
   "cell_type": "code",
   "execution_count": 62,
   "metadata": {},
   "outputs": [],
   "source": [
    "def load_data(key_col, data, df, table_name):\n",
    "    conn = pyodbc.connect(pyodbc_url)\n",
    "    with conn.cursor() as cursor:\n",
    "        cursor.execute(f'CREATE TABLE #temp_table({\", \".join([key+\" VARCHAR(50)\" for key in key_col])})')\n",
    "        columns = \", \".join(data[0].keys())\n",
    "        placeholders = \", \".join([\"?\" for _ in data[0]])\n",
    "        insert_query = f\"INSERT INTO #temp_table ({columns}) VALUES ({placeholders})\"\n",
    "        values = [tuple(order.values()) for order in data]\n",
    "        cursor.executemany(insert_query, values)\n",
    "        cursor.execute(f'DELETE c FROM {table_name} c INNER JOIN #temp_table t ON {\" AND \".join([\"c.\"+key+\"=t.\"+key for key in key_col])}')\n",
    "        conn.commit()\n",
    "    df.write.jdbc(url=jdbc_url, table=table_name, mode='append', properties=connection_properties)"
   ]
  },
  {
   "cell_type": "markdown",
   "metadata": {},
   "source": [
    "Customer"
   ]
  },
  {
   "cell_type": "code",
   "execution_count": 30,
   "metadata": {},
   "outputs": [],
   "source": [
    "silver_customer_df = spark.read.jdbc(url=jdbc_url, table='[silver].[Dim_Customers]', properties=connection_properties)\n",
    "silver_fact_sales_df = spark.read.jdbc(url=jdbc_url, table='[silver].[Fact_Sales_Transactions]', properties=connection_properties)"
   ]
  },
  {
   "cell_type": "code",
   "execution_count": 31,
   "metadata": {},
   "outputs": [],
   "source": [
    "joined_df = silver_fact_sales_df.alias('fact').join(silver_customer_df.alias('cust'), silver_fact_sales_df.customer_id == silver_customer_df.customer_id, 'inner').select('cust.*', 'fact.order_id', 'fact.total_amount')\n",
    "gold_customer_df = joined_df.groupBy('customer_id', 'name', 'email', 'age', 'gender', 'signup_date').agg(sum('total_amount').alias('total_spent'), count('order_id').alias('total_orders'))"
   ]
  },
  {
   "cell_type": "code",
   "execution_count": 47,
   "metadata": {},
   "outputs": [],
   "source": [
    "customer_id = [{\"customer_id\": customer.customer_id} for customer in gold_customer_df.collect()]"
   ]
  },
  {
   "cell_type": "code",
   "execution_count": 61,
   "metadata": {},
   "outputs": [],
   "source": [
    "load_data(['customer_id'], customer_id, gold_customer_df, 'gold.Dim_Customers')"
   ]
  },
  {
   "cell_type": "markdown",
   "metadata": {},
   "source": [
    "Products"
   ]
  },
  {
   "cell_type": "code",
   "execution_count": 63,
   "metadata": {},
   "outputs": [],
   "source": [
    "silver_product_df = spark.read.jdbc(url=jdbc_url, table='[silver].[Dim_Products]', properties=connection_properties)"
   ]
  },
  {
   "cell_type": "code",
   "execution_count": 70,
   "metadata": {},
   "outputs": [],
   "source": [
    "joined_df = silver_product_df.alias('prod').join(silver_fact_sales_df.alias('fact'), silver_product_df.product_id == silver_fact_sales_df.product_id, 'inner').select('prod.*', 'fact.total_amount')\n",
    "gold_product_df = joined_df.groupBy('product_id', 'name', 'category', 'brand', 'cost_price', 'selling_price').agg(count('product_id').alias('total_units_sold') ,sum('total_amount').alias('total_revenue'))"
   ]
  },
  {
   "cell_type": "code",
   "execution_count": 71,
   "metadata": {},
   "outputs": [],
   "source": [
    "product_id = [{\"product_id\": product.product_id} for product in gold_product_df.collect()]"
   ]
  },
  {
   "cell_type": "code",
   "execution_count": 74,
   "metadata": {},
   "outputs": [],
   "source": [
    "load_data(['product_id'], product_id, gold_product_df, 'gold.Dim_Products')"
   ]
  },
  {
   "cell_type": "markdown",
   "metadata": {},
   "source": [
    "Orders"
   ]
  },
  {
   "cell_type": "code",
   "execution_count": 75,
   "metadata": {},
   "outputs": [],
   "source": [
    "silver_orders_df = spark.read.jdbc(url=jdbc_url, table='[silver].[Dim_Orders]', properties=connection_properties)"
   ]
  },
  {
   "cell_type": "code",
   "execution_count": 77,
   "metadata": {},
   "outputs": [],
   "source": [
    "joined_df = silver_orders_df.alias('ord').join(silver_fact_sales_df.alias('fact'), silver_orders_df.order_id == silver_fact_sales_df.order_id, 'inner').select('ord.*', 'fact.total_amount', 'fact.customer_id')\n",
    "gold_orders_df = joined_df.groupBy('order_id', 'order_date', 'customer_id').agg(count('customer_id').alias('total_items') ,sum('total_amount').alias('total_order_value'))"
   ]
  },
  {
   "cell_type": "code",
   "execution_count": 79,
   "metadata": {},
   "outputs": [],
   "source": [
    "order_id = [{\"order_id\": order.order_id} for order in gold_orders_df.collect()]"
   ]
  },
  {
   "cell_type": "code",
   "execution_count": 81,
   "metadata": {},
   "outputs": [],
   "source": [
    "load_data(['order_id'], order_id, gold_orders_df, 'gold.Dim_Orders')"
   ]
  },
  {
   "cell_type": "markdown",
   "metadata": {},
   "source": [
    "Fact Sales Transaction"
   ]
  },
  {
   "cell_type": "code",
   "execution_count": 91,
   "metadata": {},
   "outputs": [],
   "source": [
    "uuid_udf = udf(lambda: str(uuid.uuid4()).upper(), StringType())"
   ]
  },
  {
   "cell_type": "code",
   "execution_count": 97,
   "metadata": {},
   "outputs": [],
   "source": [
    "joined_df = silver_fact_sales_df.alias('fact').join(silver_orders_df.alias('ord'), silver_fact_sales_df.order_id == silver_orders_df.order_id, 'inner').select('fact.*', 'ord.order_date')\n",
    "gold_sales_df = joined_df.groupBy('order_id', 'product_id', 'customer_id', 'order_date').agg(count('product_id').alias('total_quantity'), sum('total_amount').alias('total_revenue'), sum('discount').alias('total_discount'), sum('tax').alias('total_tax'), sum('refund_amount').alias('total_refund')).withColumn('transaction_id', uuid_udf()).withColumnRenamed('order_date', 'transaction_date')"
   ]
  },
  {
   "cell_type": "code",
   "execution_count": 98,
   "metadata": {},
   "outputs": [],
   "source": [
    "transaction_id = [{\"transaction_id\": sales.transaction_id} for sales in gold_sales_df.collect()]"
   ]
  },
  {
   "cell_type": "code",
   "execution_count": 100,
   "metadata": {},
   "outputs": [],
   "source": [
    "load_data(['transaction_id'], transaction_id, gold_sales_df, 'gold.Fact_Sales_Transactions')"
   ]
  }
 ],
 "metadata": {
  "kernelspec": {
   "display_name": "Python 3",
   "language": "python",
   "name": "python3"
  },
  "language_info": {
   "codemirror_mode": {
    "name": "ipython",
    "version": 3
   },
   "file_extension": ".py",
   "mimetype": "text/x-python",
   "name": "python",
   "nbconvert_exporter": "python",
   "pygments_lexer": "ipython3",
   "version": "3.11.9"
  }
 },
 "nbformat": 4,
 "nbformat_minor": 2
}
